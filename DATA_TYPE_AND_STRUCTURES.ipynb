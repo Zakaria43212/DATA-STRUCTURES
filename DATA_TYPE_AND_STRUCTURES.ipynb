{
  "nbformat": 4,
  "nbformat_minor": 0,
  "metadata": {
    "colab": {
      "provenance": []
    },
    "kernelspec": {
      "name": "python3",
      "display_name": "Python 3"
    },
    "language_info": {
      "name": "python"
    }
  },
  "cells": [
    {
      "cell_type": "markdown",
      "source": [
        "# **DATA TYPE AND STRUCTURES ( ASSIGNMENT )**"
      ],
      "metadata": {
        "id": "j2kV3ts3gJm9"
      }
    },
    {
      "cell_type": "markdown",
      "source": [
        "**1. What are data structures, and why are they important?**\n",
        "\n",
        "**Answer :-**  Data structures are ways to store and organize data. They are important because they help us access, manage, and change data efficiently.\n",
        "\n",
        "**2. Explain the difference between mutable and immutable data types with examples.**\n",
        "\n",
        "**Answer :-** Mutable data types like list can be changed (add, remove, update items). Immutable data types like tuple or string cannot be changed after they are created.\n",
        "Example:\n",
        "List → a = [1, 2, 3] → a[0] = 10 is allowed\n",
        "Tuple → a = (1, 2, 3) → a[0] = 10 will give an error\n",
        "\n",
        "**3. What are the main differences between lists and tuples in Python?**\n",
        "\n",
        "**Answer :-** Lists are mutable, while tuples are immutable. We can change elements in a list, but not in a tuple. Use a list when data may change, and a tuple when data should stay fixed.\n",
        "\n",
        "**4. Describe how dictionaries store data.**\n",
        "\n",
        "**Answer :-** Dictionaries store data as key-value pairs. Each item has a unique key linked to its value.\n",
        "Example: {\"name\": \"Ali\", \"age\": 25}\n",
        "\n",
        "**5. Why might you use a set instead of a list in Python?**\n",
        "\n",
        "**Answer :-** Sets do not allow duplicate values, and they store items in an unordered way. We use sets when we want to keep only unique values.\n",
        "\n"
      ],
      "metadata": {
        "id": "VnVe1W2CgJro"
      }
    },
    {
      "cell_type": "markdown",
      "source": [
        "**6. What is a string in Python, and how is it different from a list?**\n",
        "\n",
        "**Answer :-** A string is a sequence of characters, and it is immutable. A list can have different data types and is mutable, meaning it can be changed.\n",
        "\n",
        "**7. How do tuples ensure data integrity in Python?**\n",
        "\n",
        "**Answer :-** Tuples are immutable, so once they are created, their values cannot be changed. This keeps the data safe and secure.\n",
        "\n",
        "**8. What is a hash table, and how does it relate to dictionaries in Python?**\n",
        "\n",
        "**Answer :-** A hash table is a data structure that stores data using key hash values. Python dictionaries use hash tables to give fast access to values.\n",
        "\n",
        "**9. Can lists contain different data types in Python?**\n",
        "\n",
        "**Answer :-** Yes, in Python a list can have multiple data types, like integers, strings, or even other lists.\n",
        "Example: [1, \"hello\", [2, 3]]\n",
        "\n",
        "**10. Explain why strings are immutable in Python.**\n",
        "\n",
        "**Answer :-** Strings are immutable so their data cannot be changed. This helps with memory safety and performance. If we want to change a string, we have to create a new string."
      ],
      "metadata": {
        "id": "AP4w65YQgJwF"
      }
    },
    {
      "cell_type": "markdown",
      "source": [
        "**11. What advantages do dictionaries offer over lists for certain tasks?**\n",
        "\n",
        "**Answer :-** Dictionaries are better when we need to look up values using unique keys. They give faster access and make code easier to understand by using meaningful keys instead of index numbers.\n",
        "\n",
        "**12. Describe a scenario where using a tuple would be preferable over a list.**\n",
        "\n",
        "**Answer :-** Tuples are best when the data should not change. For example, storing a person’s (latitude, longitude) or the days of the week is better with a tuple because the values are fixed.\n",
        "\n",
        "**13. How do sets handle duplicate values in Python?**\n",
        "\n",
        "**Answer :-** Sets automatically remove duplicates. If the same value is added more than once, it is only stored once in the set.\n",
        "\n",
        "**14. How does the “in” keyword work differently for lists and dictionaries?**\n",
        "\n",
        "**Answer :-** In a list, in checks if a value exists. In a dictionary, in checks if a key exists.\n",
        "Example: \"apple\" in [1, \"apple\"] is True\n",
        "\"name\" in {\"name\": \"Ali\"} is also True\n",
        "\n",
        "**15. Can you modify the elements of a tuple? Explain why or why not.**\n",
        "\n",
        "**Answer :-** No, you cannot change elements of a tuple because it is immutable. Once created, the data inside a tuple stays unchanged."
      ],
      "metadata": {
        "id": "eFxE_feSjwFF"
      }
    },
    {
      "cell_type": "markdown",
      "source": [
        "**16. What is a nested dictionary, and give an example of its use case?**\n",
        "\n",
        "**Answer :-** A nested dictionary means a dictionary inside another dictionary. It helps store structured data like student details.\n",
        "\n",
        "**Example:**  \n",
        "\n",
        "python\n",
        "Copy code\n",
        "student = {  \n",
        "  \"name\": \"Ali\",  \n",
        "  \"marks\": {\"math\": 90, \"science\": 85}  \n",
        "}  \n",
        "**17. Describe the time complexity of accessing elements in a dictionary**.\n",
        "\n",
        "**Answer :-** Accessing values in a dictionary is very fast — the time complexity is usually **O(1)**, which means it takes the same time no matter how big the dictionary is.\n",
        "\n",
        "**18. In what situations are lists preferred over dictionaries?**\n",
        "\n",
        "**Answer :-** Lists are better when we need ordered data or when we don't need key-value pairs. For example, a list of items like [\"pen\", \"pencil\", \"eraser\"].\n",
        "\n",
        "**19. Why are dictionaries considered unordered, and how does that affect data retrieval?**\n",
        "\n",
        "**Answer :-** Dictionaries are unordered because they store data by keys, not by position. This means we can’t rely on the order, but we can quickly get values using the key.\n",
        "\n",
        "**20. Explain the difference between a list and a dictionary in terms of data retrieval.**\n",
        "\n",
        "**Answer :-** In a list, we use a number index like list[0] to get data. In a dictionary, we use a key like dict[\"name\"]. Dictionaries are better when we want to label the data.\n",
        "\n"
      ],
      "metadata": {
        "id": "M5U8wSM1gGrk"
      }
    },
    {
      "cell_type": "markdown",
      "source": [
        "# **Practical Questions**"
      ],
      "metadata": {
        "id": "qA1QD_nJlb21"
      }
    },
    {
      "cell_type": "markdown",
      "source": [
        "**1. Write a code to create a string with your name and print it.**\n",
        "\n",
        "**Answer :-**"
      ],
      "metadata": {
        "id": "LHj9pJScSSQT"
      }
    },
    {
      "cell_type": "code",
      "source": [
        "name = \"Ali\"\n",
        "print(name)"
      ],
      "metadata": {
        "id": "Fes8cTdGo5ov",
        "colab": {
          "base_uri": "https://localhost:8080/"
        },
        "outputId": "5008de54-d22e-4bcb-aa6a-b11d0d543630"
      },
      "execution_count": null,
      "outputs": [
        {
          "output_type": "stream",
          "name": "stdout",
          "text": [
            "Ali\n"
          ]
        }
      ]
    },
    {
      "cell_type": "markdown",
      "source": [
        "**2. Write a code to find the length of the string \"Hello World\".**\n",
        "\n",
        "**Answer :-**"
      ],
      "metadata": {
        "id": "2iaI-fx2SiUg"
      }
    },
    {
      "cell_type": "code",
      "source": [
        "text = \"Hello World\"\n",
        "print(len(text))"
      ],
      "metadata": {
        "colab": {
          "base_uri": "https://localhost:8080/"
        },
        "id": "Tc1fPoozSiMD",
        "outputId": "34f4d2e5-76c4-4154-c78a-331752854fc0"
      },
      "execution_count": null,
      "outputs": [
        {
          "output_type": "stream",
          "name": "stdout",
          "text": [
            "11\n"
          ]
        }
      ]
    },
    {
      "cell_type": "markdown",
      "source": [
        "**3. Write a code to slice the first 3 characters from the string \"Python Programming\".**\n",
        "\n",
        "**Answer :-**"
      ],
      "metadata": {
        "id": "nxOcp_ioSh_K"
      }
    },
    {
      "cell_type": "code",
      "source": [
        "text = \"Python Programming\"\n",
        "print(text[:3])"
      ],
      "metadata": {
        "colab": {
          "base_uri": "https://localhost:8080/"
        },
        "id": "knmozby2Sh2W",
        "outputId": "73bf8edf-4db6-4ee7-cfcf-c586ad6961a7"
      },
      "execution_count": null,
      "outputs": [
        {
          "output_type": "stream",
          "name": "stdout",
          "text": [
            "Pyt\n"
          ]
        }
      ]
    },
    {
      "cell_type": "markdown",
      "source": [
        "**4. Write a code to convert the string \"hello\" to uppercase.**\n",
        "\n",
        "**Answer :-**"
      ],
      "metadata": {
        "id": "7RihBPvFShu_"
      }
    },
    {
      "cell_type": "code",
      "source": [
        "text = \"hello\"\n",
        "print(text.upper())"
      ],
      "metadata": {
        "colab": {
          "base_uri": "https://localhost:8080/"
        },
        "id": "Kqhxk9ZnShnA",
        "outputId": "a8d5199b-d388-41d9-9202-7088012de270"
      },
      "execution_count": null,
      "outputs": [
        {
          "output_type": "stream",
          "name": "stdout",
          "text": [
            "HELLO\n"
          ]
        }
      ]
    },
    {
      "cell_type": "markdown",
      "source": [
        "**5. Write a code to replace the word \"apple\" with \"orange\" in the string \"I like apple\".**\n",
        "\n",
        "**Answer :-**"
      ],
      "metadata": {
        "id": "CWQikDlzShdl"
      }
    },
    {
      "cell_type": "code",
      "source": [
        "text = \"I like apple\"\n",
        "new_text = text.replace(\"apple\", \"orange\")\n",
        "print(new_text)"
      ],
      "metadata": {
        "colab": {
          "base_uri": "https://localhost:8080/"
        },
        "id": "nko404NKShWZ",
        "outputId": "ceafbbd1-2119-4ba0-9edf-e625251ce958"
      },
      "execution_count": null,
      "outputs": [
        {
          "output_type": "stream",
          "name": "stdout",
          "text": [
            "I like orange\n"
          ]
        }
      ]
    },
    {
      "cell_type": "markdown",
      "source": [
        "**6. Write a code to create a list with numbers 1 to 5 and print it.**\n",
        "\n",
        "**Answer :-**"
      ],
      "metadata": {
        "id": "l9TncQoKShNC"
      }
    },
    {
      "cell_type": "code",
      "source": [
        "numbers = [1, 2, 3, 4, 5]\n",
        "print(numbers)"
      ],
      "metadata": {
        "colab": {
          "base_uri": "https://localhost:8080/"
        },
        "id": "OLTNboDvShFs",
        "outputId": "9d4a0777-04d0-4f5a-ae29-3f1a77f0c03f"
      },
      "execution_count": null,
      "outputs": [
        {
          "output_type": "stream",
          "name": "stdout",
          "text": [
            "[1, 2, 3, 4, 5]\n"
          ]
        }
      ]
    },
    {
      "cell_type": "markdown",
      "source": [
        "**7. Write a code to append the number 10 to the list [1, 2, 3, 4].**\n",
        "\n",
        "**Answer :-**"
      ],
      "metadata": {
        "id": "Ov5IVABOSg93"
      }
    },
    {
      "cell_type": "code",
      "source": [
        "numbers = [1, 2, 3, 4]\n",
        "numbers.append(10)\n",
        "print(numbers)"
      ],
      "metadata": {
        "colab": {
          "base_uri": "https://localhost:8080/"
        },
        "id": "pklC5bxGSg2_",
        "outputId": "319260ba-d7f4-4e69-ca57-72c4e1aca920"
      },
      "execution_count": null,
      "outputs": [
        {
          "output_type": "stream",
          "name": "stdout",
          "text": [
            "[1, 2, 3, 4, 10]\n"
          ]
        }
      ]
    },
    {
      "cell_type": "markdown",
      "source": [
        "**8. Write a code to remove the number 3 from the list [1, 2, 3, 4, 5].**\n",
        "\n",
        "**Answer :-**"
      ],
      "metadata": {
        "id": "TieiBGAWSgny"
      }
    },
    {
      "cell_type": "code",
      "source": [
        "numbers = [1, 2, 3, 4, 5]\n",
        "numbers.remove(3)\n",
        "print(numbers)"
      ],
      "metadata": {
        "colab": {
          "base_uri": "https://localhost:8080/"
        },
        "id": "lZenIC5BSggU",
        "outputId": "9a83c058-6480-4af6-ec44-ff8ef2546b17"
      },
      "execution_count": null,
      "outputs": [
        {
          "output_type": "stream",
          "name": "stdout",
          "text": [
            "[1, 2, 4, 5]\n"
          ]
        }
      ]
    },
    {
      "cell_type": "markdown",
      "source": [
        "**9. Write a code to access the second element in the list ['a', 'b', 'c', 'd'].**\n",
        "\n",
        "**Answer :-**"
      ],
      "metadata": {
        "id": "Z0yA7k_ZSfpN"
      }
    },
    {
      "cell_type": "code",
      "source": [
        "letters = ['a', 'b', 'c', 'd']\n",
        "print(letters[1])"
      ],
      "metadata": {
        "colab": {
          "base_uri": "https://localhost:8080/"
        },
        "id": "0N72YvRRSchN",
        "outputId": "5ccc625a-c717-4f2e-97a7-46af68b4b699"
      },
      "execution_count": null,
      "outputs": [
        {
          "output_type": "stream",
          "name": "stdout",
          "text": [
            "b\n"
          ]
        }
      ]
    },
    {
      "cell_type": "markdown",
      "source": [
        "**10. Write a code to reverse the list [10, 20, 30, 40, 50].**\n",
        "\n",
        "**Answer :-**"
      ],
      "metadata": {
        "id": "rwlScwoFScZL"
      }
    },
    {
      "cell_type": "code",
      "source": [
        "numbers = [10, 20, 30, 40, 50]\n",
        "numbers.reverse()\n",
        "print(numbers)"
      ],
      "metadata": {
        "colab": {
          "base_uri": "https://localhost:8080/"
        },
        "id": "We3jfrm9ScN9",
        "outputId": "ee17e6b1-1ddb-44b5-8d76-640d48bdf549"
      },
      "execution_count": null,
      "outputs": [
        {
          "output_type": "stream",
          "name": "stdout",
          "text": [
            "[50, 40, 30, 20, 10]\n"
          ]
        }
      ]
    },
    {
      "cell_type": "markdown",
      "source": [
        "**11. Write a code to create a tuple with the elements 100, 200, 300 and print it.**\n",
        "\n",
        "**Answer :-**"
      ],
      "metadata": {
        "id": "7Rcq1yJ8ScHz"
      }
    },
    {
      "cell_type": "code",
      "source": [
        "numbers = (100, 200, 300)\n",
        "print(numbers)"
      ],
      "metadata": {
        "colab": {
          "base_uri": "https://localhost:8080/"
        },
        "id": "R_67SELqScAz",
        "outputId": "88d9ceba-4c65-488d-9675-2f6459e26787"
      },
      "execution_count": null,
      "outputs": [
        {
          "output_type": "stream",
          "name": "stdout",
          "text": [
            "(100, 200, 300)\n"
          ]
        }
      ]
    },
    {
      "cell_type": "markdown",
      "source": [
        "**12. Write a code to access the second-to-last element of the tuple ('red', 'green', 'blue', 'yellow').**\n",
        "\n",
        "**Answer :-**"
      ],
      "metadata": {
        "id": "nsDBFIVNSb4g"
      }
    },
    {
      "cell_type": "code",
      "source": [
        "colors = ('red', 'green', 'blue', 'yellow')\n",
        "print(colors[-2])"
      ],
      "metadata": {
        "colab": {
          "base_uri": "https://localhost:8080/"
        },
        "id": "BLQQPEh-Sbuu",
        "outputId": "3976e5ea-1daf-47ea-bca6-77a8d7c73e0f"
      },
      "execution_count": null,
      "outputs": [
        {
          "output_type": "stream",
          "name": "stdout",
          "text": [
            "blue\n"
          ]
        }
      ]
    },
    {
      "cell_type": "markdown",
      "source": [
        "**13. Write a code to find the minimum number in the tuple (10, 20, 5, 15).**\n",
        "\n",
        "**Answer :-**"
      ],
      "metadata": {
        "id": "pgjiEv5vSblr"
      }
    },
    {
      "cell_type": "code",
      "source": [
        "numbers = (10, 20, 5, 15)\n",
        "print(min(numbers))\n"
      ],
      "metadata": {
        "colab": {
          "base_uri": "https://localhost:8080/"
        },
        "id": "56Hx4ENKSbci",
        "outputId": "20d24c34-57f1-42ec-d6af-7c312bd22710"
      },
      "execution_count": null,
      "outputs": [
        {
          "output_type": "stream",
          "name": "stdout",
          "text": [
            "5\n"
          ]
        }
      ]
    },
    {
      "cell_type": "markdown",
      "source": [
        "**14. Write a code to find the index of the element \"cat\" in the tuple ('dog', 'cat', 'rabbit').**\n",
        "\n",
        "**Answer :-**"
      ],
      "metadata": {
        "id": "z74sKqngSbTN"
      }
    },
    {
      "cell_type": "code",
      "source": [
        "animals = ('dog', 'cat', 'rabbit')\n",
        "print(animals.index('cat'))\n"
      ],
      "metadata": {
        "colab": {
          "base_uri": "https://localhost:8080/"
        },
        "id": "O7vRkrUfSbKB",
        "outputId": "32743d37-31f0-4939-d282-14101c7e804f"
      },
      "execution_count": null,
      "outputs": [
        {
          "output_type": "stream",
          "name": "stdout",
          "text": [
            "1\n"
          ]
        }
      ]
    },
    {
      "cell_type": "markdown",
      "source": [
        "**15. Write a code to create a tuple containing three different fruits and check if \"kiwi\" is in it.**\n",
        "\n",
        "**Answer :-**"
      ],
      "metadata": {
        "id": "35JqKo3aSbAZ"
      }
    },
    {
      "cell_type": "code",
      "source": [
        "fruits = ('apple', 'banana', 'mango')\n",
        "print(\"kiwi\" in fruits)"
      ],
      "metadata": {
        "colab": {
          "base_uri": "https://localhost:8080/"
        },
        "id": "f9yhZKIfSa4A",
        "outputId": "a8fdd31b-8f6c-4c5c-8bd1-5e0d8a3a5253"
      },
      "execution_count": null,
      "outputs": [
        {
          "output_type": "stream",
          "name": "stdout",
          "text": [
            "False\n"
          ]
        }
      ]
    },
    {
      "cell_type": "markdown",
      "source": [
        "**16. Write a code to create a set with the elements 'a', 'b', 'c' and print it.**\n",
        "\n",
        "\n",
        "**Answer :-**"
      ],
      "metadata": {
        "id": "Bd7AUJRoSavh"
      }
    },
    {
      "cell_type": "code",
      "source": [
        "my_set = {'a', 'b', 'c'}\n",
        "print(my_set)"
      ],
      "metadata": {
        "colab": {
          "base_uri": "https://localhost:8080/"
        },
        "id": "n1XyLRPnSanM",
        "outputId": "9024abe9-fbbb-4259-9c39-85bbe0459f24"
      },
      "execution_count": null,
      "outputs": [
        {
          "output_type": "stream",
          "name": "stdout",
          "text": [
            "{'c', 'a', 'b'}\n"
          ]
        }
      ]
    },
    {
      "cell_type": "markdown",
      "source": [
        "**17. Write a code to clear all elements from the set {1, 2, 3, 4, 5}.**\n",
        "\n",
        "**Answer :-**"
      ],
      "metadata": {
        "id": "yMRnir9dSacA"
      }
    },
    {
      "cell_type": "code",
      "source": [
        "numbers = {1, 2, 3, 4, 5}\n",
        "numbers.clear()\n",
        "print(numbers)"
      ],
      "metadata": {
        "colab": {
          "base_uri": "https://localhost:8080/"
        },
        "id": "D_O4MwPHSaML",
        "outputId": "4bca3af8-8e15-452f-f0f3-053a1b201ea3"
      },
      "execution_count": null,
      "outputs": [
        {
          "output_type": "stream",
          "name": "stdout",
          "text": [
            "set()\n"
          ]
        }
      ]
    },
    {
      "cell_type": "markdown",
      "source": [
        "**18. Write a code to remove the element 4 from the set {1, 2, 3, 4}.**\n",
        "\n",
        "**Answer :-**"
      ],
      "metadata": {
        "id": "iVRhHzb5SaHE"
      }
    },
    {
      "cell_type": "code",
      "source": [
        "numbers = {1, 2, 3, 4}\n",
        "numbers.remove(4)\n",
        "print(numbers)"
      ],
      "metadata": {
        "colab": {
          "base_uri": "https://localhost:8080/"
        },
        "id": "dHuGHafnSaBC",
        "outputId": "4ee8bd3d-ee04-46b7-e5fc-8570b32ddc65"
      },
      "execution_count": null,
      "outputs": [
        {
          "output_type": "stream",
          "name": "stdout",
          "text": [
            "{1, 2, 3}\n"
          ]
        }
      ]
    },
    {
      "cell_type": "markdown",
      "source": [
        "**19. Write a code to find the union of two sets {1, 2, 3} and {3, 4, 5}.**\n",
        "\n",
        "**Answer :-**"
      ],
      "metadata": {
        "id": "ubFtAdA3SZ7e"
      }
    },
    {
      "cell_type": "code",
      "source": [
        "set1 = {1, 2, 3}\n",
        "set2 = {3, 4, 5}\n",
        "print(set1.union(set2))"
      ],
      "metadata": {
        "colab": {
          "base_uri": "https://localhost:8080/"
        },
        "id": "1NFEgW_ISZ1Q",
        "outputId": "eba25b37-c56b-4222-93a1-f3863a25cc80"
      },
      "execution_count": null,
      "outputs": [
        {
          "output_type": "stream",
          "name": "stdout",
          "text": [
            "{1, 2, 3, 4, 5}\n"
          ]
        }
      ]
    },
    {
      "cell_type": "markdown",
      "source": [
        "**20. Write a code to find the intersection of two sets {1, 2, 3} and {2, 3, 4}.**\n",
        "\n",
        "**Answer :-**"
      ],
      "metadata": {
        "id": "fPeSSfAfSZuj"
      }
    },
    {
      "cell_type": "code",
      "source": [
        "set1 = {1, 2, 3}\n",
        "set2 = {2, 3, 4}\n",
        "print(set1.intersection(set2))"
      ],
      "metadata": {
        "colab": {
          "base_uri": "https://localhost:8080/"
        },
        "id": "c6zeGybJSZnl",
        "outputId": "e21dd639-d52b-4eed-be11-a4497e5bf41f"
      },
      "execution_count": null,
      "outputs": [
        {
          "output_type": "stream",
          "name": "stdout",
          "text": [
            "{2, 3}\n"
          ]
        }
      ]
    },
    {
      "cell_type": "markdown",
      "source": [
        "**21. Write a code to create a dictionary with the keys \"name\", \"age\", and \"city\", and print it.**\n",
        "\n",
        "**Answer :-**"
      ],
      "metadata": {
        "id": "X6admndmSZe5"
      }
    },
    {
      "cell_type": "code",
      "source": [
        "person = {\"name\": \"Ali\", \"age\": 25, \"city\": \"Lahore\"}\n",
        "print(person)"
      ],
      "metadata": {
        "colab": {
          "base_uri": "https://localhost:8080/"
        },
        "id": "xswOFaouSZXm",
        "outputId": "42c234c0-3d4d-4119-ff82-abac88cde62f"
      },
      "execution_count": null,
      "outputs": [
        {
          "output_type": "stream",
          "name": "stdout",
          "text": [
            "{'name': 'Ali', 'age': 25, 'city': 'Lahore'}\n"
          ]
        }
      ]
    },
    {
      "cell_type": "markdown",
      "source": [
        "**22. Write a code to add a new key-value pair \"country\": \"USA\" to the dictionary {'name': 'John', 'age': 25}.**\n",
        "\n",
        "**Answer :-**"
      ],
      "metadata": {
        "id": "nfIkjsgxSZPi"
      }
    },
    {
      "cell_type": "code",
      "source": [
        "person = {'name': 'John', 'age': 25}\n",
        "person[\"country\"] = \"USA\"\n",
        "print(person)"
      ],
      "metadata": {
        "colab": {
          "base_uri": "https://localhost:8080/"
        },
        "id": "e9H-r6leSZIO",
        "outputId": "e7b85141-e32e-4a79-df54-53aa4aaae71b"
      },
      "execution_count": null,
      "outputs": [
        {
          "output_type": "stream",
          "name": "stdout",
          "text": [
            "{'name': 'John', 'age': 25, 'country': 'USA'}\n"
          ]
        }
      ]
    },
    {
      "cell_type": "markdown",
      "source": [
        "**23. Write a code to access the value associated with the key \"name\" in the dictionary {'name': 'Alice', 'age': 30}.**\n",
        "\n",
        "**Answer :-**"
      ],
      "metadata": {
        "id": "dgf2xThXSY-5"
      }
    },
    {
      "cell_type": "code",
      "source": [
        "person = {'name': 'Alice', 'age': 30}\n",
        "print(person[\"name\"]"
      ],
      "metadata": {
        "colab": {
          "base_uri": "https://localhost:8080/"
        },
        "id": "S18ZQmxzSY2A",
        "outputId": "35b80faa-2d99-4190-8ae0-3ebf79b41cd3"
      },
      "execution_count": null,
      "outputs": [
        {
          "output_type": "stream",
          "name": "stdout",
          "text": [
            "Alice\n"
          ]
        }
      ]
    },
    {
      "cell_type": "markdown",
      "source": [
        "**24. Write a code to remove the key \"age\" from the dictionary {'name': 'Bob', 'age': 22, 'city': 'New York'}.**\n",
        "\n",
        "**Answer :-**"
      ],
      "metadata": {
        "id": "jeGIQzd4SYup"
      }
    },
    {
      "cell_type": "code",
      "source": [
        "person = {'name': 'Bob', 'age': 22, 'city': 'New York'}\n",
        "person.pop(\"age\")\n",
        "print(person)"
      ],
      "metadata": {
        "colab": {
          "base_uri": "https://localhost:8080/"
        },
        "id": "v9fHTcvsSYoB",
        "outputId": "fb0dae0a-27b5-4345-c885-ed221a28cb55"
      },
      "execution_count": null,
      "outputs": [
        {
          "output_type": "stream",
          "name": "stdout",
          "text": [
            "{'name': 'Bob', 'city': 'New York'}\n"
          ]
        }
      ]
    },
    {
      "cell_type": "markdown",
      "source": [
        "**25. Write a code to check if the key \"city\" exists in the dictionary {'name': 'Alice', 'city': 'Paris'}.**\n",
        "\n",
        "**Answer :-**"
      ],
      "metadata": {
        "id": "Rm074DdHSYhG"
      }
    },
    {
      "cell_type": "code",
      "source": [
        "person = {'name': 'Alice', 'city': 'Paris'}\n",
        "print(\"city\" in person)"
      ],
      "metadata": {
        "colab": {
          "base_uri": "https://localhost:8080/"
        },
        "id": "vpjAqsdzSYY6",
        "outputId": "a1157a04-e554-495e-c6de-4437201d635d"
      },
      "execution_count": null,
      "outputs": [
        {
          "output_type": "stream",
          "name": "stdout",
          "text": [
            "True\n"
          ]
        }
      ]
    },
    {
      "cell_type": "markdown",
      "source": [
        "**26. Write a code to create a list, a tuple, and a dictionary, and print them all.**\n",
        "\n",
        "**Answer :-**"
      ],
      "metadata": {
        "id": "h-tbvIr4SYRp"
      }
    },
    {
      "cell_type": "code",
      "source": [
        "my_list = [1, 2, 3]\n",
        "my_tuple = (4, 5, 6)\n",
        "my_dict = {\"a\": 1, \"b\": 2}\n",
        "print(my_list)\n",
        "print(my_tuple)\n",
        "print(my_dict)"
      ],
      "metadata": {
        "colab": {
          "base_uri": "https://localhost:8080/"
        },
        "id": "-8XkMDdLSYI1",
        "outputId": "13073adc-2b19-4190-e1be-2202e36dde40"
      },
      "execution_count": null,
      "outputs": [
        {
          "output_type": "stream",
          "name": "stdout",
          "text": [
            "[1, 2, 3]\n",
            "(4, 5, 6)\n",
            "{'a': 1, 'b': 2}\n"
          ]
        }
      ]
    },
    {
      "cell_type": "markdown",
      "source": [
        "**27. Write a code to create a list of 5 random numbers between 1 and 100, sort it in ascending order, and print the result.**\n",
        "\n",
        "**Answer :-**"
      ],
      "metadata": {
        "id": "9ycgCHAbSYBn"
      }
    },
    {
      "cell_type": "code",
      "source": [
        "import random\n",
        "numbers = random.sample(range(1, 101), 5)\n",
        "numbers.sort()\n",
        "print(numbers)"
      ],
      "metadata": {
        "colab": {
          "base_uri": "https://localhost:8080/"
        },
        "id": "qfDQTkeHSX6a",
        "outputId": "3c5ced12-7b07-43b2-9d75-928e7021c5e3"
      },
      "execution_count": null,
      "outputs": [
        {
          "output_type": "stream",
          "name": "stdout",
          "text": [
            "[20, 21, 43, 48, 70]\n"
          ]
        }
      ]
    },
    {
      "cell_type": "markdown",
      "source": [
        "**28. Write a code to create a list with strings and print the element at the third index.**\n",
        "\n",
        "**Answer :-**"
      ],
      "metadata": {
        "id": "utPU6-M0SXz_"
      }
    },
    {
      "cell_type": "code",
      "source": [
        "words = [\"apple\", \"banana\", \"cherry\", \"date\", \"fig\"]\n",
        "print(words[3])"
      ],
      "metadata": {
        "colab": {
          "base_uri": "https://localhost:8080/"
        },
        "id": "nDOtEXu5SXs-",
        "outputId": "ff47b888-2df2-4daf-81c7-aea2b8e547b2"
      },
      "execution_count": null,
      "outputs": [
        {
          "output_type": "stream",
          "name": "stdout",
          "text": [
            "date\n"
          ]
        }
      ]
    },
    {
      "cell_type": "markdown",
      "source": [
        "**29. Write a code to combine two dictionaries into one and print the result.**\n",
        "\n",
        "**Answer :-**"
      ],
      "metadata": {
        "id": "uz-NLZR3SXa0"
      }
    },
    {
      "cell_type": "code",
      "source": [
        "dict1 = {\"a\": 1, \"b\": 2}\n",
        "dict2 = {\"c\": 3, \"d\": 4}\n",
        "combined = {**dict1, **dict2}\n",
        "print(combined)"
      ],
      "metadata": {
        "colab": {
          "base_uri": "https://localhost:8080/"
        },
        "id": "Kx2jyZ1BSXUL",
        "outputId": "c195a3dd-400c-4e57-8301-cfa50a7c0bc0"
      },
      "execution_count": null,
      "outputs": [
        {
          "output_type": "stream",
          "name": "stdout",
          "text": [
            "{'a': 1, 'b': 2, 'c': 3, 'd': 4}\n"
          ]
        }
      ]
    },
    {
      "cell_type": "markdown",
      "source": [
        "**30. Write a code to convert a list of strings into a set.**\n",
        "\n",
        "**Answer :-**"
      ],
      "metadata": {
        "id": "pu_rnKI4SXI-"
      }
    },
    {
      "cell_type": "code",
      "source": [
        "words = [\"apple\", \"banana\", \"apple\", \"orange\"]\n",
        "word_set = set(words)\n",
        "print(word_set)"
      ],
      "metadata": {
        "colab": {
          "base_uri": "https://localhost:8080/"
        },
        "id": "TdwbchZwSWy_",
        "outputId": "96b9aee6-2be6-4f00-f46e-723b652bdec1"
      },
      "execution_count": null,
      "outputs": [
        {
          "output_type": "stream",
          "name": "stdout",
          "text": [
            "{'banana', 'apple', 'orange'}\n"
          ]
        }
      ]
    },
    {
      "cell_type": "markdown",
      "source": [],
      "metadata": {
        "id": "dTMr8D2mSVYY"
      }
    }
  ]
}